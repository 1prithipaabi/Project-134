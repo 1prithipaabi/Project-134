{
  "nbformat": 4,
  "nbformat_minor": 0,
  "metadata": {
    "colab": {
      "provenance": [],
      "authorship_tag": "ABX9TyM827vUO7uKELRPiFqPPSwx",
      "include_colab_link": true
    },
    "kernelspec": {
      "name": "python3",
      "display_name": "Python 3"
    },
    "language_info": {
      "name": "python"
    }
  },
  "cells": [
    {
      "cell_type": "markdown",
      "metadata": {
        "id": "view-in-github",
        "colab_type": "text"
      },
      "source": [
        "<a href=\"https://colab.research.google.com/github/1prithipaabi/Project-134/blob/main/Project_134.ipynb\" target=\"_parent\"><img src=\"https://colab.research.google.com/assets/colab-badge.svg\" alt=\"Open In Colab\"/></a>"
      ]
    },
    {
      "cell_type": "code",
      "execution_count": 49,
      "metadata": {
        "colab": {
          "base_uri": "https://localhost:8080/",
          "height": 1000
        },
        "id": "LyGeY3RO3Uhp",
        "outputId": "642610ec-2629-4259-f9ea-3d3bc30175c2"
      },
      "outputs": [
        {
          "output_type": "display_data",
          "data": {
            "text/plain": [
              "<IPython.core.display.HTML object>"
            ],
            "text/html": [
              "\n",
              "     <input type=\"file\" id=\"files-6100256a-c039-485a-9560-57775f6f0f4d\" name=\"files[]\" multiple disabled\n",
              "        style=\"border:none\" />\n",
              "     <output id=\"result-6100256a-c039-485a-9560-57775f6f0f4d\">\n",
              "      Upload widget is only available when the cell has been executed in the\n",
              "      current browser session. Please rerun this cell to enable.\n",
              "      </output>\n",
              "      <script>// Copyright 2017 Google LLC\n",
              "//\n",
              "// Licensed under the Apache License, Version 2.0 (the \"License\");\n",
              "// you may not use this file except in compliance with the License.\n",
              "// You may obtain a copy of the License at\n",
              "//\n",
              "//      http://www.apache.org/licenses/LICENSE-2.0\n",
              "//\n",
              "// Unless required by applicable law or agreed to in writing, software\n",
              "// distributed under the License is distributed on an \"AS IS\" BASIS,\n",
              "// WITHOUT WARRANTIES OR CONDITIONS OF ANY KIND, either express or implied.\n",
              "// See the License for the specific language governing permissions and\n",
              "// limitations under the License.\n",
              "\n",
              "/**\n",
              " * @fileoverview Helpers for google.colab Python module.\n",
              " */\n",
              "(function(scope) {\n",
              "function span(text, styleAttributes = {}) {\n",
              "  const element = document.createElement('span');\n",
              "  element.textContent = text;\n",
              "  for (const key of Object.keys(styleAttributes)) {\n",
              "    element.style[key] = styleAttributes[key];\n",
              "  }\n",
              "  return element;\n",
              "}\n",
              "\n",
              "// Max number of bytes which will be uploaded at a time.\n",
              "const MAX_PAYLOAD_SIZE = 100 * 1024;\n",
              "\n",
              "function _uploadFiles(inputId, outputId) {\n",
              "  const steps = uploadFilesStep(inputId, outputId);\n",
              "  const outputElement = document.getElementById(outputId);\n",
              "  // Cache steps on the outputElement to make it available for the next call\n",
              "  // to uploadFilesContinue from Python.\n",
              "  outputElement.steps = steps;\n",
              "\n",
              "  return _uploadFilesContinue(outputId);\n",
              "}\n",
              "\n",
              "// This is roughly an async generator (not supported in the browser yet),\n",
              "// where there are multiple asynchronous steps and the Python side is going\n",
              "// to poll for completion of each step.\n",
              "// This uses a Promise to block the python side on completion of each step,\n",
              "// then passes the result of the previous step as the input to the next step.\n",
              "function _uploadFilesContinue(outputId) {\n",
              "  const outputElement = document.getElementById(outputId);\n",
              "  const steps = outputElement.steps;\n",
              "\n",
              "  const next = steps.next(outputElement.lastPromiseValue);\n",
              "  return Promise.resolve(next.value.promise).then((value) => {\n",
              "    // Cache the last promise value to make it available to the next\n",
              "    // step of the generator.\n",
              "    outputElement.lastPromiseValue = value;\n",
              "    return next.value.response;\n",
              "  });\n",
              "}\n",
              "\n",
              "/**\n",
              " * Generator function which is called between each async step of the upload\n",
              " * process.\n",
              " * @param {string} inputId Element ID of the input file picker element.\n",
              " * @param {string} outputId Element ID of the output display.\n",
              " * @return {!Iterable<!Object>} Iterable of next steps.\n",
              " */\n",
              "function* uploadFilesStep(inputId, outputId) {\n",
              "  const inputElement = document.getElementById(inputId);\n",
              "  inputElement.disabled = false;\n",
              "\n",
              "  const outputElement = document.getElementById(outputId);\n",
              "  outputElement.innerHTML = '';\n",
              "\n",
              "  const pickedPromise = new Promise((resolve) => {\n",
              "    inputElement.addEventListener('change', (e) => {\n",
              "      resolve(e.target.files);\n",
              "    });\n",
              "  });\n",
              "\n",
              "  const cancel = document.createElement('button');\n",
              "  inputElement.parentElement.appendChild(cancel);\n",
              "  cancel.textContent = 'Cancel upload';\n",
              "  const cancelPromise = new Promise((resolve) => {\n",
              "    cancel.onclick = () => {\n",
              "      resolve(null);\n",
              "    };\n",
              "  });\n",
              "\n",
              "  // Wait for the user to pick the files.\n",
              "  const files = yield {\n",
              "    promise: Promise.race([pickedPromise, cancelPromise]),\n",
              "    response: {\n",
              "      action: 'starting',\n",
              "    }\n",
              "  };\n",
              "\n",
              "  cancel.remove();\n",
              "\n",
              "  // Disable the input element since further picks are not allowed.\n",
              "  inputElement.disabled = true;\n",
              "\n",
              "  if (!files) {\n",
              "    return {\n",
              "      response: {\n",
              "        action: 'complete',\n",
              "      }\n",
              "    };\n",
              "  }\n",
              "\n",
              "  for (const file of files) {\n",
              "    const li = document.createElement('li');\n",
              "    li.append(span(file.name, {fontWeight: 'bold'}));\n",
              "    li.append(span(\n",
              "        `(${file.type || 'n/a'}) - ${file.size} bytes, ` +\n",
              "        `last modified: ${\n",
              "            file.lastModifiedDate ? file.lastModifiedDate.toLocaleDateString() :\n",
              "                                    'n/a'} - `));\n",
              "    const percent = span('0% done');\n",
              "    li.appendChild(percent);\n",
              "\n",
              "    outputElement.appendChild(li);\n",
              "\n",
              "    const fileDataPromise = new Promise((resolve) => {\n",
              "      const reader = new FileReader();\n",
              "      reader.onload = (e) => {\n",
              "        resolve(e.target.result);\n",
              "      };\n",
              "      reader.readAsArrayBuffer(file);\n",
              "    });\n",
              "    // Wait for the data to be ready.\n",
              "    let fileData = yield {\n",
              "      promise: fileDataPromise,\n",
              "      response: {\n",
              "        action: 'continue',\n",
              "      }\n",
              "    };\n",
              "\n",
              "    // Use a chunked sending to avoid message size limits. See b/62115660.\n",
              "    let position = 0;\n",
              "    do {\n",
              "      const length = Math.min(fileData.byteLength - position, MAX_PAYLOAD_SIZE);\n",
              "      const chunk = new Uint8Array(fileData, position, length);\n",
              "      position += length;\n",
              "\n",
              "      const base64 = btoa(String.fromCharCode.apply(null, chunk));\n",
              "      yield {\n",
              "        response: {\n",
              "          action: 'append',\n",
              "          file: file.name,\n",
              "          data: base64,\n",
              "        },\n",
              "      };\n",
              "\n",
              "      let percentDone = fileData.byteLength === 0 ?\n",
              "          100 :\n",
              "          Math.round((position / fileData.byteLength) * 100);\n",
              "      percent.textContent = `${percentDone}% done`;\n",
              "\n",
              "    } while (position < fileData.byteLength);\n",
              "  }\n",
              "\n",
              "  // All done.\n",
              "  yield {\n",
              "    response: {\n",
              "      action: 'complete',\n",
              "    }\n",
              "  };\n",
              "}\n",
              "\n",
              "scope.google = scope.google || {};\n",
              "scope.google.colab = scope.google.colab || {};\n",
              "scope.google.colab._files = {\n",
              "  _uploadFiles,\n",
              "  _uploadFilesContinue,\n",
              "};\n",
              "})(self);\n",
              "</script> "
            ]
          },
          "metadata": {}
        },
        {
          "output_type": "stream",
          "name": "stdout",
          "text": [
            "Saving star_with_gravity.csv to star_with_gravity.csv\n"
          ]
        },
        {
          "output_type": "execute_result",
          "data": {
            "text/plain": [
              "{'star_with_gravity.csv': b',Star_name,Distance,Mass,Radius,Gravity\\n0,Sun,0.000015813,1.0,1.0,274.2691614595739\\n1,Sirius,8.6,2.1,1.71,196.971799550325\\n2,Canopus,310,15.0,71.0,0.8161153386021839\\n3,Alpha Centauri,4.4,1.1,1.2,209.51116500384123\\n4,Arcturus,37,1.1,26.0,0.44629597278924754\\n5,Vega,25,2.2,2.7,82.76984296448046\\n6,Capella,43,2.6,12.0,4.952082081908975\\n7,Rigel,860,23.0,78.9,1.01332978543217\\n8,Procyon,11.4,1.5,1.9,113.9622554541166\\n9,Betelgeuse,640,20.0,950.0,0.006077986957552885\\n10,Achernar,144,6.7,9.3,21.2464259657665\\n11,Hadar,390,10.5,8.6,38.937617567949246\\n12,Altair,17,1.8,1.8,152.37175636642996\\n13,Acrux,320,18.0,8.9,62.326030883377484\\n14,Aldebaran,65,1.5,44.0,0.21250193294905007\\n15,Antares,600,12.0,680.0,0.0071177118025840995\\n16,Spica,260,11.43,7.47,56.18003500809\\n17,Pollux,34,1.9,8.8,6.729227876719916\\n18,Fomalhaut,25,1.9,1.8,160.8368539423427\\n19,Deneb,\"2,600\",19.0,203.0,0.12645572733460908\\n20,Mimosa,350,16.0,8.4,62.19255361895101\\n21,Regulus,77,3.8,3.1,108.45190567600218\\n22,Adhara,430,12.5,14.0,17.491655705329972\\n23,Shaula,700,14.5,8.8,51.354633796020416\\n24,Castor,52,2.8,2.4,133.3252868206262\\n25,Gacrux,88,1.5,84.0,0.058305519017766566\\n26,Bellatrix,240,8.6,5.8,70.11637302474244\\n27,Elnath,130,5.0,4.2,77.74069202368877\\n28,Miaplacidus,110,3.5,6.8,20.759992757536956\\n29,Alnilam,\"2,000\",32.0,42.0,4.975404289516081\\n30,Gamma Velorum,\"1,100\",9.0,6.0,68.56729036489348\\n31,Alnair,101,4.0,3.4,94.90282403445465\\n32,Alioth,81,2.9,4.2,45.08960137373948\\n33,Alnitak,1050,33.0,20.0,22.627205820414854\\n34,Dubhe,120,4.25,30.0,1.2951599291146547\\n35,Mirfak,590,8.5,68.0,0.5041712526830403\\n36,Wezen,\"1,600\",17.0,200.0,0.11656439362031894\\n37,Sargas,270,5.7,26.0,2.3126245862715553\\n38,Kaus Australis,140,3.5,6.8,20.759992757536956\\n39,Avior,630,9.0,130.0,0.14606050018557193\\n40,Alkaid,104,6.1,3.4,144.72680665254333\\n41,Menkalinan,81,2.39,2.77,85.43097080483021\\n42,Atria,390,7.0,92.0,0.22682941046987445\\n43,Alhena,109,2.8,3.3,70.51915997124031\\n44,Peacock,180,5.9,4.8,70.23385645015132\\n45,Alsephina[2],80,2.4,2.9,78.26943965552645\\n46,Mirzam,500,13.5,10.0,37.02633679704249\\n47,Polaris,430,5.4,39.0,0.973736667903813\\n48,Alphard,180,3.0,50.0,0.32912299375148873\\n49,Scheat,196,2.1,95.0,0.0638188630543053\\n50,Almaaz,653,15.0,140.0,0.20989986846395964\\n51,Rasalgethi,360,2.8,280.0,0.009795327194984781\\n52,Tau Ceti,11.9,0.783,0.893,269.29967110479345\\n53,Delta Pavonis,19.92,0.991,1.22,182.61269753187165\\n54,Ran,10.48,0.82,0.74,410.70254272616984\\n55,V382 Carinae,\"8,900\",20.0,485.0,0.023319728894426524\\n56,Eta Carinae,\"7,500\",100.0,881.0,0.035336632665075154\\n57,Delta Cephei,887,4.5,44.5,0.6232603088337749\\n58,Mu Cephei,\"6,000\",19.2,972.0,0.005573726798954914\\n59,Titawin,44.25,1.27,1.48,159.02202111653529\\n60,Rho Cassiopeiae,\"8,154\",22.0,800.0,0.009428002425172855\\n61,P Cygni,\"5,545\",30.0,76.0,1.4245281931764575\\n62,VV Cephei,\"4,900\",18.2,750.0,0.008874131090780881\\n63,61 Cygni,11.41,0.7,0.665,434.14192553949175\\n64,R Doradus,178,0.8,298.0,0.00247078204999391\\n65,Polaris Australis,281,1.59,3.74,31.176754176608036\\n66,R Coronae Borealis,\"4,566\",0.85,85.0,0.032266960171714584\\n67,54 Piscium,36.1,0.76,0.94,235.9037604224493\\n68,Mira,300,1.2,370.0,0.00240411244522636\\n69,RW Cephei,\"14,000\",13.9,1158.0,0.0028429856016179986\\n70,Lacaille 8760,12.87,0.6,0.51,632.685493563031\\n71,V838 Monocerotis,\"19,896\",0.5,450.0,0.0006772078060730221\\n72,HD 140283,190,2.0,1.4,279.8664912852796\\n73,II Pegasi,130,0.8,3.4,18.98056480689093\\n74,VY Canis Majoris,\"3,900\",17.0,1420.0,0.0023123267927061875\\n75,Pistol Star,\"25,000\",100.0,320.0,0.2678409779878652\\n76,S Doradus,\"1,69,000\",24.0,380.0,0.04558490218164664\\n77,UY Scuti,\"5,100\",7.0,755.0,0.0033680700499399458\\n78,Barnard\\'s Star,5.98,0.14,0.2,959.9420651085089\\n79,Luhman 16,6.52,0.04,0.02,27426.9161459574\\n80,Proxima Centauri,4.25,0.12,0.15,1462.7688611177277\\n81,KIC 8462852,\"1,470\",1.43,1.58,157.10819615734286\\n82,R136a1,\"1,63,000\",290.0,32.0,77.67388361648091\\n83,Melnick 42,\"1,63,000\",189.0,21.1,116.4324060911917\\n84,WR 102,\"18,134\",19.0,0.39,34261.104981800825\\n85,VFTS 352,\"1,64,000\",57.48,14.47,75.29335961731135\\n86,YBP 1194,\"2,772\",1.01,0.99,282.6363157577489\\n87,Gliese 1214,47.5,0.16,0.21,995.0808579032163\\n88,NML Cygni,\"5,251\",50.0,1900.0,0.0037987418484705534\\n89,VB 10,18.72,0.075,0.1,2057.0187109468043\\n90,WOH G64,\"1,63,000\",20.0,1600.0,0.0021427278239029217\\n91,TRAPPIST-1,39.6,0.089,0.12,1695.1357895765334\\n92,2MASS J0523-1403,40.3,0.07,0.086,2595.841171196618\\n93,WISE 0855\\xe2\\x88\\x920714,7.27,0.003,0.086,111.25033590842646\\n94,Icarus,\"14,40,00,00,000\",33.0,0.2,226272.05820414852\\n95,SDSS J000013.54+255418.6\\xc2\\xa0[de],46.1,0.045820224,0.10173537,1214.200056936461\\n96,2MASS J00040288-6410358,192,0.018137172,0.16750369,177.29553270309606\\n97,2MASS J00242463-0158201,37.7,0.075412452,0.11201167,1648.5172507306947\\n98,2MASS J00274197+0503417,236,0.029592228,0.14797872,370.6432628229708\\n99,2MASSW J0030300-145033,87.2,0.051547752,0.10070774,1393.9943359838123\\n100,2MASS J00332386-1521309\\xc2\\xa0[de],131,0.027683052,0.14695109,351.5971318717636\\n101,2MASS J00345157+0523050,31,0.040092696,0.09659722,1178.4549471797166\\n102,2MASS 0036+1821,28.6,0.040092696,0.09659722,1178.4549471797166\\n103,2MASSW J0045214+163445,57,0.021955524,0.16647606,217.2787267524544\\n104,WISEP J004701.06+680352.1\\xc2\\xa0[fr],40,0.011455056,0.1335919,176.041046716483\\n105,2MASS J00501994-3322402\\xc2\\xa0[de],34,0.03818352,0.09659722,1122.3380449330632\\n106,2MASS J00584253-0651239\\xc2\\xa0[de],96,0.027683052,0.14695109,351.5971318717636\\n107,2MASSI J0103320+193536,70,0.049638576,0.10070774,1342.3649161325598\\n108,SDSSp J010752.33+004156.1\\xc2\\xa0[de],51,0.049638576,0.10070774,1342.3649161325598\\n109,2MASSI J0117474-340325\\xc2\\xa0[de],163,0.01909176,0.16647606,188.93802326300383\\n110,2MASS J01415823-4633574\\xc2\\xa0[de],130,0.01909176,0.16544843,191.292368446984\\n111,SDSS J015141.69+124429.6,70,0.044865636,0.09968011,1238.4366334263518\\n112,SDSS J020742.48+000056.2\\xc2\\xa0[de],111,0.044865636,0.09968011,1238.4366334263518\\n113,2MASS J02103857-3015313,101,0.01431882,0.15722739,158.86484308965376\\n114,2MASS J02340093-6442068,155,0.01909176,0.16647606,188.93802326300383\\n115,2MASS J02411151-0326587\\xc2\\xa0[de],152,0.025773876,0.14489583,336.7014134799189\\n116,2MASS J02431371\\xe2\\x88\\x922453298,35,0.031501404,0.10173537,834.7625391438166\\n117,LP 771-21,53,0.074457864,0.11098404,1657.9311541328584\\n118,Teegarden\\'s star,12.578,0.07636704,0.13050901,1229.7078510792417\\n119,2MASS J02535980+3206373,184,0.06204822,0.1952497,446.40140770557866\\n120,WISE J0254+0223,24,0.06204822,0.1952497,446.40140770557866\\n121,DEN 0255-4700,16.2,0.07636704,0.09968011,2107.9772483852794\\n122,2MASS J03185403-3421292\\xc2\\xa0[de],45,0.046774812,0.09968011,1291.1360646359838\\n123,2MASS J03205965+1854233,47,0.084003744,0.11817745,1649.7053854867902\\n124,2MASS J03231002-4631237,192,0.021955524,0.17058658,206.93362261908166\\n125,SDSS J032553.17+042540.1,59,0.04295646,0.09762485,1236.1885136462176\\n126,2MASS J03264225-2102057\\xc2\\xa0[de],80,0.017182584,0.1335919,264.0615700747245\\n127,2MASS J03284265+2302051\\xc2\\xa0[de],98,0.051547752,0.10070774,1393.9943359838123\\n128,2MASS J03341218-4953322,27,0.069684924,0.10687352,1673.3068242582376\\n129,LP 944-20,20.9,0.069684924,0.14695109,885.0548491944393\\n130,2MASP J0345432+254023,88,0.070639512,0.10790115,1664.073567827919\\n131,Teide 1,380,0.05250234,0.38844414,95.43298113794582\\n132,2MASS J03510004-0052452,48,0.097367976,0.13050901,1567.8775101260333\\n133,2MASS J03552337+1133437,29.8,0.01909176,0.13564716,284.5781383444831\\n134,2MASS J04151954\\xe2\\x88\\x920935066,18.6,0.02863764,0.09762485,824.1256757641451\\n135,2MASS J04285096-2253227\\xc2\\xa0[de],85,0.07636704,0.11201167,1669.384557701969\\n136,2MASS J04351612-1606574,34,0.0954588,0.12948138,1561.6306004391133\\n137,2MASS J04362788-4114465,142,0.037228932,0.20244311,249.14464404913377\\n138,2MASS J04390101-2353083\\xc2\\xa0[de],29.5,0.045820224,0.09968011,1264.7863490311677\\n139,2MASS J04433764+0002040,82,0.021000936,0.18291814,172.14803783504922\\n140,2MASS J04455387-3048204\\xc2\\xa0[de],42,0.061093632,0.102763,1586.7166344045677\\n141,2MASS J04510093-3402150\\xc2\\xa0[de],69,0.000992772,7.398936,0.004973795867202517\\n142,2MASS J05002100+0330501\\xc2\\xa0[de],44,0.061093632,0.102763,1586.7166344045677\\n143,2MASS J05012406-0010452\\xc2\\xa0[de],64,0.020046348,0.14181294,273.38867657214803\\n144,2MASS J05160945-0445499\\xc2\\xa0[de],73,0.044865636,0.09968011,1238.4366334263518\\n145,2MASS J0523\\xe2\\x88\\x921403,40,0.064911984,0.10379063,1652.6678012497337\\n146,SDSS J053951.99-005902.0,41.62,0.058229868,0.10379063,1482.5402334740254\\n147,LSR 0602+3910\\xc2\\xa0[de],34.6,0.026728464,0.14489583,349.1718362013974\\n148,2MASS J06085283-2753583,102,0.036274344,0.15517213,413.1893345369554\\n149,2MASS J06244595-4521548\\xc2\\xa0[de],39,0.053456928,0.10173537,1416.5667330925376\\n150,2MASS J06411840-4322329\\xc2\\xa0[de],65,0.063957396,0.10379063,1628.363862996061\\n151,DENIS-P J0652197-253450\\xc2\\xa0[de],51,0.0715941,0.10790115,1686.5610484742424\\n152,2MASS J07075327-4900503,60,0.068730336,0.10584589,1682.5866846122526\\n153,UGPS J072227.51-054031.2,13.4,0.024819288,0.10070774,671.1824580662799\\n154,2MASSI J0727182+171001\\xc2\\xa0[de],29.6,0.039138108,0.09659722,1150.3964960563899\\n155,2MASS J07290002-3954043\\xc2\\xa0[de],25.8,0.035319756,0.09659722,1038.1626915630836\\n156,SDSS J074201.41+205520.5\\xc2\\xa0[de],49,0.041047284,0.09659722,1206.513398303043\\n157,DENIS-P J0751164-253043\\xc2\\xa0[de],55,0.067775748,0.10584589,1659.2174251037488\\n158,2MASS J07522390+1612157,60,0.001918722,6.987884,0.010776994467105179\\n159,DENIS J081730.0-615520,16.1,0.042001872,0.09659722,1234.5718494263697\\n160,2MASS J08251968+2115521\\xc2\\xa0[de],35,0.049638576,0.10070774,1342.3649161325598\\n161,SDSSp J083008.12+482847.4\\xc2\\xa0[de],43,0.045820224,0.10173537,1214.200056936461\\n162,LHS 2021,55,0.084003744,0.11817745,1649.7053854867902\\n163,SDSS J083048.80+012831.1\\xc2\\xa0[de],77,0.043911048,0.09865248,1237.4702484573381\\n164,2MASSI J0835425-081923\\xc2\\xa0[de],23.53,0.059184456,0.102763,1537.1317395794251\\n165,2MASSI J0847287-153237\\xc2\\xa0[de],43,0.061093632,0.102763,1586.7166344045677\\n166,2MASS J08533619-0329321,27.6,0.073503276,0.10995641,1667.4106478888943\\n167,2MASSI J0859254-194926\\xc2\\xa0[de],50,0.0477294,0.10070774,1290.7354962813076\\n168,2MASSI J0937347+293142,20,0.040092696,0.09659722,1178.4549471797166\\n169,2MASS 0939\\xe2\\x88\\x922448,17.4,0.030546816,0.09762485,879.0673874817548\\n170,2MASS J09490860-1545485\\xc2\\xa0[de],59,0.046774812,0.09865248,1318.174829878469\\n171,2MASS J10073369-4555147,46,0.042001872,0.09659722,1234.5718494263697\\n172,2MASSI J1010148-040649\\xc2\\xa0[de],55,0.048683988,0.10070774,1316.5502062069338\\n173,2MASS J10224821+5825453\\xc2\\xa0[de],60,0.025773876,0.14489583,336.7014134799189\\n174,2MASSW J1036530-344138\\xc2\\xa0[de],53,0.046774812,0.09968011,1291.1360646359838\\n175,2MASS J1047538+212423\\xc2\\xa0[de],34.4,0.040092696,0.09659722,1178.4549471797166\\n176,DEN 1048-3956,13.15,0.073503276,0.10995641,1667.4106478888943\\n177,Luhman 16B,6.516,0.041047284,0.10481826,1024.6782379282668\\n178,Luhman 16A,6.516,0.03818352,0.10379063,972.157530146902\\n179,DENIS-P J1058.7\\xe2\\x88\\x921548,49,0.061093632,0.102763,1586.7166344045677\\n180,TWA 28,180,0.034365168,0.24560357,156.25218516002334\\n181,Cha 110913-773444,163,0.007636704,0.1849734,61.21591953721324\\n182,SDSS J111010.01+011613.1,63,0.008591292,0.12742612,145.11708292998327\\n183,2MASS J11145133\\xe2\\x88\\x922618235,18.2,0.031501404,0.09865248,887.7503956324381\\n184,TWA 26,137,0.02863764,0.2260786,153.6721947060209\\n185,2MASS J11544223-3400390\\xc2\\xa0[de],129,0.035319756,0.1541445,407.6980241178403\\n186,2MASSW J1155395-372735\\xc2\\xa0[de],31,0.061093632,0.102763,1586.7166344045677\\n187,2MASS J12074836-3900043,217,0.016227996,0.17572473,144.1372066665686\\n188,2MASSI J1217110-031113\\xc2\\xa0[de],36,0.040092696,0.09659722,1178.4549471797166\\n189,2M 1237+6526,45.6,0.039138108,0.09659722,1150.3964960563899\\n190,TWA 29,262,0.001909176,2.569075,0.07933583172022834\\n191,SDSSp J125453.90-012247.4\\xc2\\xa0[de],38,0.044865636,0.10070774,1213.2913665044293\\n192,Kelu-1A,61,0.060139044,0.10070774,1626.3267253144477\\n193,Kelu-1B,61,0.055366104,0.10070774,1497.253175686317\\n194,2MASS J13204427+0409045,101,0.063957396,0.10379063,1628.363862996061\\n195,SDSSp J132629.82-003831.5\\xc2\\xa0[de],65,0.048683988,0.09968011,1343.8354958456157\\n196,SDSSp J134646.45-003150.4\\xc2\\xa0[de],48,0.042001872,0.09659722,1234.5718494263697\\n197,2MASS J13595510-4034582,51,0.060139044,0.102763,1561.9241869919963\\n198,ULAS J141623.94+134836.3,29.7,0.030546816,0.09865248,860.8488684920613\\n199,SDSS J141659.78+500626.4\\xc2\\xa0[de],149,0.056320692,0.10173537,1492.4542366510664\\n200,DENIS-P J142527.97-365023.4\\xc2\\xa0[de],38,0.020046348,0.13564716,298.80704526170723\\n201,LHS 2924,38.5,0.072548688,0.10892878,1676.9544351685863\\n202,2MASS J14392837+1929150,47,0.068730336,0.10584589,1682.5866846122526\\n203,LSPM J1440+1339,72,0.087822096,0.12228797,1610.6949805497954\\n204,2MASS J14482563+1031590\\xc2\\xa0[de],47,0.056320692,0.10173537,1492.4542366510664\\n205,CFBDSIR 1458+10A,104,0.010595927,0.1541445,122.30940954396388\\n206,CFBDSIR 1458+10B,104,0.008591292,0.1335919,132.03078503736225\\n207,TVLM 513-46546,35.1,0.0715941,0.10790115,1686.5610484742424\\n208,2MASS 1503+2525,20.7,0.042001872,0.09659722,1234.5718494263697\\n209,CFBDS J150411+102717,71,0.042001872,0.09659722,1234.5718494263697\\n210,2MASSW J1506544+132106\\xc2\\xa0[de],46,0.065866572,0.10481826,1644.2511259779164\\n211,2MASS 1507\\xe2\\x88\\x921627,23.9,0.05727528,0.10173537,1517.750071170576\\n212,TVLM 868-110639,53,0.075412452,0.11098404,1679.1866817499465\\n213,2MASSW J1515008+484742\\xc2\\xa0[de],34,0.054411516,0.10173537,1441.8625676120473\\n214,2MASSI J1526140+204341\\xc2\\xa0[de],67,0.051547752,0.10070774,1393.9943359838123\\n215,DENIS-P J153941.96-052042.4\\xc2\\xa0[de],51,0.060139044,0.102763,1561.9241869919963\\n216,2MASS J15462718-3325111\\xc2\\xa0[de],37,0.042001872,0.09659722,1234.5718494263697\\n217,2MASSW J1552591+294849\\xc2\\xa0[de],68,0.02863764,0.14695109,363.7211709018244\\n218,2MASSW J1555157-095605\\xc2\\xa0[de],44,0.067775748,0.10584589,1659.2174251037488\\n219,2MASS J16150413+1340079\\xc2\\xa0[de],48,0.040092696,0.09659722,1178.4549471797166\\n220,SDSSp J162414.37+002915.6\\xc2\\xa0[de],36,0.041047284,0.09659722,1206.513398303043\\n221,2MASS J16262034+3925190\\xc2\\xa0[de],110,0.067775748,0.10584589,1659.2174251037488\\n222,2MASSW J1632291+190441\\xc2\\xa0[de],50,0.046774812,0.09968011,1291.1360646359838\\n223,WISEPA J164715.59+563208.2,28,0.039138108,0.09659722,1150.3964960563899\\n224,LSPM J1658+7027\\xc2\\xa0[de],60,0.069684924,0.10687352,1673.3068242582376\\n225,2MASSI J1726000+153819,114,0.022910112,0.1438682,303.5809887253637\\n226,SDSSp J175032.96+175903.9,90,0.044865636,0.09968011,1238.4366334263518\\n227,2MASS J18283572-4849046,39,0.04295646,0.09762485,1236.1885136462176\\n228,LSR J1835+3259,18.5,0.073503276,0.10995641,1667.4106478888943\\n229,2MASSW J1841086+311727,138,0.063957396,0.10379063,1628.363862996061\\n230,2MASS J18432213+4040209,46,0.091640448,0.12537086,1599.0828753069409\\n231,2MASS J20004841-7523070,105,0.0238647,0.19319444,175.36531952079116\\n232,SDSS J204749.61-071818.3,65,0.043911048,0.09865248,1237.4702484573381\\n233,2MASSI J2057540-025230,47,0.06682116,0.10481826,1668.0808524413649\\n234,2MASSI J2104149-103736,62,0.065866572,0.10481826,1644.2511259779164\\n235,PSO J318.5\\xe2\\x88\\x9222,80,0.006204822,0.15722739,68.84143200551662\\n236,HB 2124-4228,113,0.089731272,0.12434323,1591.7560663764143\\n237,2MASS J21392676+0220226,32.1,0.043911048,0.09865248,1237.4702484573381\\n238,2MASS J21481628+4003593,26.3,0.05250234,0.10173537,1391.270898573028\\n239,2MASSW J2206450-421721,93,0.021000936,0.13667479,308.3463412722992\\n240,2MASSW J2208136+292121,154,0.025773876,0.14489583,336.7014134799189\\n241,2MASSW J2224438-015852,38,0.058229868,0.10173537,1543.0459056900854\\n242,2MASS J22282889-4310262,35,0.040092696,0.09659722,1178.4549471797166\\n243,2MASS J22373255+3922398,64,0.069684924,0.10687352,1673.3068242582376\\n244,2MASSW J2244316+204343,56,0.011455056,0.13256427,178.78094402431122\\n245,2MASS J23224684-3133231,56,0.022910112,0.14284057,307.9647729940028\\n246,2MASS J23225299-6151275,148,0.016227996,0.16339317,166.71476840857292\\n247,2MASS J23515044-2537367,67,0.084003744,0.11920508,1621.3847891693522\\n248,2MASSI J2356547-155310,74,0.07636704,0.11201167,1669.384557701969\\n249,WISE 0410+1502,20,0.005727528,0.12023271,108.6673127879525\\n250,WISE 0458+6434A,35.9,0.01431882,0.4316046,21.082013105928027\\n251,WISE 0458+6434B,35.9,0.00954588,0.3904994,17.169284911753024\\n252,WISE 1405+5534,25.3,0.02863764,0.08837618,2.4471070969610065e-10\\n'}"
            ]
          },
          "metadata": {},
          "execution_count": 49
        }
      ],
      "source": [
        "from google.colab import files\n",
        "files.upload()"
      ]
    },
    {
      "cell_type": "code",
      "source": [
        "import csv\n",
        "import pandas as pd\n",
        "star_data = pd.read_csv('star_with_gravity.csv')\n",
        "star_data.head()"
      ],
      "metadata": {
        "colab": {
          "base_uri": "https://localhost:8080/",
          "height": 206
        },
        "id": "dgmQOrvh513-",
        "outputId": "7cb27fcb-66cd-4626-f24a-867e3ad11a51"
      },
      "execution_count": 50,
      "outputs": [
        {
          "output_type": "execute_result",
          "data": {
            "text/plain": [
              "   Unnamed: 0       Star_name     Distance  Mass  Radius     Gravity\n",
              "0           0             Sun  0.000015813   1.0    1.00  274.269161\n",
              "1           1          Sirius          8.6   2.1    1.71  196.971800\n",
              "2           2         Canopus          310  15.0   71.00    0.816115\n",
              "3           3  Alpha Centauri          4.4   1.1    1.20  209.511165\n",
              "4           4        Arcturus           37   1.1   26.00    0.446296"
            ],
            "text/html": [
              "\n",
              "  <div id=\"df-3c1b3359-9c4b-4973-96f8-dec4266726a7\">\n",
              "    <div class=\"colab-df-container\">\n",
              "      <div>\n",
              "<style scoped>\n",
              "    .dataframe tbody tr th:only-of-type {\n",
              "        vertical-align: middle;\n",
              "    }\n",
              "\n",
              "    .dataframe tbody tr th {\n",
              "        vertical-align: top;\n",
              "    }\n",
              "\n",
              "    .dataframe thead th {\n",
              "        text-align: right;\n",
              "    }\n",
              "</style>\n",
              "<table border=\"1\" class=\"dataframe\">\n",
              "  <thead>\n",
              "    <tr style=\"text-align: right;\">\n",
              "      <th></th>\n",
              "      <th>Unnamed: 0</th>\n",
              "      <th>Star_name</th>\n",
              "      <th>Distance</th>\n",
              "      <th>Mass</th>\n",
              "      <th>Radius</th>\n",
              "      <th>Gravity</th>\n",
              "    </tr>\n",
              "  </thead>\n",
              "  <tbody>\n",
              "    <tr>\n",
              "      <th>0</th>\n",
              "      <td>0</td>\n",
              "      <td>Sun</td>\n",
              "      <td>0.000015813</td>\n",
              "      <td>1.0</td>\n",
              "      <td>1.00</td>\n",
              "      <td>274.269161</td>\n",
              "    </tr>\n",
              "    <tr>\n",
              "      <th>1</th>\n",
              "      <td>1</td>\n",
              "      <td>Sirius</td>\n",
              "      <td>8.6</td>\n",
              "      <td>2.1</td>\n",
              "      <td>1.71</td>\n",
              "      <td>196.971800</td>\n",
              "    </tr>\n",
              "    <tr>\n",
              "      <th>2</th>\n",
              "      <td>2</td>\n",
              "      <td>Canopus</td>\n",
              "      <td>310</td>\n",
              "      <td>15.0</td>\n",
              "      <td>71.00</td>\n",
              "      <td>0.816115</td>\n",
              "    </tr>\n",
              "    <tr>\n",
              "      <th>3</th>\n",
              "      <td>3</td>\n",
              "      <td>Alpha Centauri</td>\n",
              "      <td>4.4</td>\n",
              "      <td>1.1</td>\n",
              "      <td>1.20</td>\n",
              "      <td>209.511165</td>\n",
              "    </tr>\n",
              "    <tr>\n",
              "      <th>4</th>\n",
              "      <td>4</td>\n",
              "      <td>Arcturus</td>\n",
              "      <td>37</td>\n",
              "      <td>1.1</td>\n",
              "      <td>26.00</td>\n",
              "      <td>0.446296</td>\n",
              "    </tr>\n",
              "  </tbody>\n",
              "</table>\n",
              "</div>\n",
              "      <button class=\"colab-df-convert\" onclick=\"convertToInteractive('df-3c1b3359-9c4b-4973-96f8-dec4266726a7')\"\n",
              "              title=\"Convert this dataframe to an interactive table.\"\n",
              "              style=\"display:none;\">\n",
              "        \n",
              "  <svg xmlns=\"http://www.w3.org/2000/svg\" height=\"24px\"viewBox=\"0 0 24 24\"\n",
              "       width=\"24px\">\n",
              "    <path d=\"M0 0h24v24H0V0z\" fill=\"none\"/>\n",
              "    <path d=\"M18.56 5.44l.94 2.06.94-2.06 2.06-.94-2.06-.94-.94-2.06-.94 2.06-2.06.94zm-11 1L8.5 8.5l.94-2.06 2.06-.94-2.06-.94L8.5 2.5l-.94 2.06-2.06.94zm10 10l.94 2.06.94-2.06 2.06-.94-2.06-.94-.94-2.06-.94 2.06-2.06.94z\"/><path d=\"M17.41 7.96l-1.37-1.37c-.4-.4-.92-.59-1.43-.59-.52 0-1.04.2-1.43.59L10.3 9.45l-7.72 7.72c-.78.78-.78 2.05 0 2.83L4 21.41c.39.39.9.59 1.41.59.51 0 1.02-.2 1.41-.59l7.78-7.78 2.81-2.81c.8-.78.8-2.07 0-2.86zM5.41 20L4 18.59l7.72-7.72 1.47 1.35L5.41 20z\"/>\n",
              "  </svg>\n",
              "      </button>\n",
              "      \n",
              "  <style>\n",
              "    .colab-df-container {\n",
              "      display:flex;\n",
              "      flex-wrap:wrap;\n",
              "      gap: 12px;\n",
              "    }\n",
              "\n",
              "    .colab-df-convert {\n",
              "      background-color: #E8F0FE;\n",
              "      border: none;\n",
              "      border-radius: 50%;\n",
              "      cursor: pointer;\n",
              "      display: none;\n",
              "      fill: #1967D2;\n",
              "      height: 32px;\n",
              "      padding: 0 0 0 0;\n",
              "      width: 32px;\n",
              "    }\n",
              "\n",
              "    .colab-df-convert:hover {\n",
              "      background-color: #E2EBFA;\n",
              "      box-shadow: 0px 1px 2px rgba(60, 64, 67, 0.3), 0px 1px 3px 1px rgba(60, 64, 67, 0.15);\n",
              "      fill: #174EA6;\n",
              "    }\n",
              "\n",
              "    [theme=dark] .colab-df-convert {\n",
              "      background-color: #3B4455;\n",
              "      fill: #D2E3FC;\n",
              "    }\n",
              "\n",
              "    [theme=dark] .colab-df-convert:hover {\n",
              "      background-color: #434B5C;\n",
              "      box-shadow: 0px 1px 3px 1px rgba(0, 0, 0, 0.15);\n",
              "      filter: drop-shadow(0px 1px 2px rgba(0, 0, 0, 0.3));\n",
              "      fill: #FFFFFF;\n",
              "    }\n",
              "  </style>\n",
              "\n",
              "      <script>\n",
              "        const buttonEl =\n",
              "          document.querySelector('#df-3c1b3359-9c4b-4973-96f8-dec4266726a7 button.colab-df-convert');\n",
              "        buttonEl.style.display =\n",
              "          google.colab.kernel.accessAllowed ? 'block' : 'none';\n",
              "\n",
              "        async function convertToInteractive(key) {\n",
              "          const element = document.querySelector('#df-3c1b3359-9c4b-4973-96f8-dec4266726a7');\n",
              "          const dataTable =\n",
              "            await google.colab.kernel.invokeFunction('convertToInteractive',\n",
              "                                                     [key], {});\n",
              "          if (!dataTable) return;\n",
              "\n",
              "          const docLinkHtml = 'Like what you see? Visit the ' +\n",
              "            '<a target=\"_blank\" href=https://colab.research.google.com/notebooks/data_table.ipynb>data table notebook</a>'\n",
              "            + ' to learn more about interactive tables.';\n",
              "          element.innerHTML = '';\n",
              "          dataTable['output_type'] = 'display_data';\n",
              "          await google.colab.output.renderOutput(dataTable, element);\n",
              "          const docLink = document.createElement('div');\n",
              "          docLink.innerHTML = docLinkHtml;\n",
              "          element.appendChild(docLink);\n",
              "        }\n",
              "      </script>\n",
              "    </div>\n",
              "  </div>\n",
              "  "
            ]
          },
          "metadata": {},
          "execution_count": 50
        }
      ]
    },
    {
      "cell_type": "code",
      "source": [
        "print(len(star_data))"
      ],
      "metadata": {
        "colab": {
          "base_uri": "https://localhost:8080/"
        },
        "id": "JyNgiWQ1-4qR",
        "outputId": "12355953-0034-4e9c-bd93-6c422aa63314"
      },
      "execution_count": 51,
      "outputs": [
        {
          "output_type": "stream",
          "name": "stdout",
          "text": [
            "253\n"
          ]
        }
      ]
    },
    {
      "cell_type": "code",
      "source": [
        "star_distance=[]\n",
        "suitable_stars=[]\n",
        "distance_supporting_stars = list(star_data)\n",
        "temp_distance_supporting_stars = list(suitable_stars)\n",
        "for index, star_data in enumerate(temp_distance_supporting_stars):\n",
        "  if star_data[2]>=100:\n",
        "    distance_supporting_stars.remove(star_data)\n",
        "print(len(distance_supporting_stars))"
      ],
      "metadata": {
        "colab": {
          "base_uri": "https://localhost:8080/"
        },
        "id": "xCjX8Ldh6e23",
        "outputId": "24a9ea5d-9f32-4bd6-9295-8a193b2ef80e"
      },
      "execution_count": 52,
      "outputs": [
        {
          "output_type": "stream",
          "name": "stdout",
          "text": [
            "6\n"
          ]
        }
      ]
    },
    {
      "cell_type": "code",
      "source": [
        "star_gravity=[]\n",
        "suitable_stars=[]\n",
        "gravity_supporting_stars = list(distance_supporting_stars)\n",
        "temp_gravity_supporting_stars = list(suitable_stars)\n",
        "for index, distance_supporting_stars in enumerate(temp_gravity_supporting_stars):\n",
        "  if star_data[5]<150 or star_data[5]>350:\n",
        "    gravity_supporting_stars.remove(distance_supporting_stars)\n",
        "print(len(gravity_supporting_stars))"
      ],
      "metadata": {
        "colab": {
          "base_uri": "https://localhost:8080/"
        },
        "id": "7S9xbw2u-Fcu",
        "outputId": "c073c8d6-b178-4518-ea66-5f4abc1f5fa7"
      },
      "execution_count": 53,
      "outputs": [
        {
          "output_type": "stream",
          "name": "stdout",
          "text": [
            "6\n"
          ]
        }
      ]
    },
    {
      "cell_type": "code",
      "source": [
        "gravity_supporting_stars = star_data.dropna()\n",
        "gravity_supporting_stars\n",
        "gravity_supporting_stars\n",
        "gravity_supporting_stars.to_csv('stars_with_gravity_and_distance')"
      ],
      "metadata": {
        "id": "CYrBBSR1CB71"
      },
      "execution_count": 54,
      "outputs": []
    }
  ]
}